{
 "cells": [
  {
   "cell_type": "code",
   "execution_count": 7,
   "metadata": {},
   "outputs": [],
   "source": [
    "import pandas as pd"
   ]
  },
  {
   "cell_type": "code",
   "execution_count": null,
   "metadata": {},
   "outputs": [],
   "source": [
    "def load_data():\n",
    "    dataset = pd.read_excel(r\"globalterrorismdb_2021Jan-June_1222dist.xlsx\") # 2021-2021 June\n",
    "    return dataset"
   ]
  },
  {
   "cell_type": "markdown",
   "metadata": {},
   "source": [
    "- Computes the total number of kills (nkills) for each unique value in a specified column of the dataset, ranks the values based on their severity (total kills), saves the results to a CSV file, and integrates them into the **preprocessing function**"
   ]
  },
  {
   "cell_type": "code",
   "execution_count": null,
   "metadata": {},
   "outputs": [],
   "source": [
    "def calculate_kill_sum(dataset_cleaned, column_name):\n",
    "    dataset_cleaned[column_name] = dataset_cleaned[column_name].astype(str).str.lower()\n",
    "    dataset_cleaned = dataset_cleaned[dataset_cleaned[column_name] != 'unknown']\n",
    "    \n",
    "    kill_sum = dataset_cleaned.groupby(column_name)['nkill'].sum()\n",
    "    sorted_values = kill_sum.sort_values(ascending=False).index\n",
    "    severity_score = kill_sum[sorted_values].rank(ascending=True, method='dense')\n",
    "\n",
    "    metrics = pd.DataFrame({\n",
    "        column_name: sorted_values,  \n",
    "        'kill_sum': kill_sum[sorted_values].values,\n",
    "        'severity_score': severity_score\n",
    "    })\n",
    "    \n",
    "    metrics.to_csv(f\"metrics/kill_sum_{column_name}.csv\", index=False)\n",
    "\n",
    "\n",
    "def precompute_values(dataset):\n",
    "    dataset_cleaned = dataset.dropna(subset=['gname', 'city']) \n",
    "    dataset_cleaned = dataset_cleaned[dataset_cleaned['gname'] != '']  \n",
    "    dataset_cleaned = dataset_cleaned[dataset_cleaned['city'] != ''] \n",
    "\n",
    "    calculate_kill_sum(dataset_cleaned, 'gname')\n",
    "    calculate_kill_sum(dataset_cleaned, 'city')\n",
    "    calculate_kill_sum(dataset_cleaned, 'country')\n",
    "    calculate_kill_sum(dataset_cleaned, 'attacktype1')\n",
    "    calculate_kill_sum(dataset_cleaned, 'targtype1')\n",
    "    calculate_kill_sum(dataset_cleaned, 'weaptype1')\n",
    "\n",
    "dataset = load_data()\n",
    "precompute_values(dataset)\n"
   ]
  }
 ],
 "metadata": {
  "kernelspec": {
   "display_name": "Python 3",
   "language": "python",
   "name": "python3"
  },
  "language_info": {
   "codemirror_mode": {
    "name": "ipython",
    "version": 3
   },
   "file_extension": ".py",
   "mimetype": "text/x-python",
   "name": "python",
   "nbconvert_exporter": "python",
   "pygments_lexer": "ipython3",
   "version": "3.12.6"
  }
 },
 "nbformat": 4,
 "nbformat_minor": 2
}
